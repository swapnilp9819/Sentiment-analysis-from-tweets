{
 "cells": [
  {
   "cell_type": "markdown",
   "metadata": {},
   "source": [
    "# Sentiment Analysis from Tweets (before preprocessing)"
   ]
  },
  {
   "cell_type": "code",
   "execution_count": 1,
   "metadata": {},
   "outputs": [],
   "source": [
    "import csv                               # csv reader\n",
    "from sklearn.svm import LinearSVC\n",
    "from nltk.classify import SklearnClassifier\n",
    "from sklearn.pipeline import Pipeline\n",
    "from sklearn.metrics import precision_recall_fscore_support # to report on precision and recall\n",
    "import numpy as np\n",
    "\n",
    "import re"
   ]
  },
  {
   "cell_type": "code",
   "execution_count": 2,
   "metadata": {},
   "outputs": [],
   "source": [
    "def load_data(path):\n",
    "    \"\"\"Load data from a tab-separated file and append it to raw_data.\"\"\"\n",
    "\n",
    "    #added encoding\n",
    "    with open(path, encoding=\"utf8\") as f:\n",
    "        reader = csv.reader(f, delimiter='\\t')\n",
    "        for line in reader:\n",
    "            if line[0] == \"Id\":  # skip header\n",
    "                continue\n",
    "            (label, text) = parse_data_line(line)\n",
    "            raw_data.append((text, label))\n",
    "        #return raw_data\n",
    "\n",
    "\n",
    "def split_and_preprocess_data(percentage):\n",
    "    \"\"\"Split the data between train_data and test_data according to the percentage\n",
    "    and performs the preprocessing.\"\"\"\n",
    "    num_samples = len(raw_data)\n",
    "    num_training_samples = int((percentage * num_samples))\n",
    "    for (text, label) in raw_data[:num_training_samples]:\n",
    "        train_data.append((to_feature_vector(pre_process(text)),label))\n",
    "    for (text, label) in raw_data[num_training_samples:]:\n",
    "        test_data.append((to_feature_vector(pre_process(text)),label))"
   ]
  },
  {
   "cell_type": "markdown",
   "metadata": {},
   "source": [
    "# Input and Basic preprocessing"
   ]
  },
  {
   "cell_type": "code",
   "execution_count": 3,
   "metadata": {},
   "outputs": [],
   "source": [
    "def parse_data_line(data_line):\n",
    "    #Will return a tuple of the label i.e. positive or negative and text\n",
    "    label = data_line[1]\n",
    "    text = data_line[2]\n",
    "\n",
    "    return (label, text)"
   ]
  },
  {
   "cell_type": "code",
   "execution_count": 4,
   "metadata": {},
   "outputs": [],
   "source": [
    "# Input: a string of one statement\n",
    "def pre_process(text):\n",
    "    \n",
    "    tokens = re.findall(r'\\w+', text)\n",
    "    # Splitting the words along the whitespaces\n",
    "    tokens = re.split(r\"\\s+\",text)\n",
    "\n",
    "    return tokens"
   ]
  },
  {
   "cell_type": "markdown",
   "metadata": {},
   "source": [
    "# Basic Feature Extraction"
   ]
  },
  {
   "cell_type": "code",
   "execution_count": 5,
   "metadata": {},
   "outputs": [],
   "source": [
    "global_feature_dict = {}  # A global dictionary of features\n",
    "\n",
    "def to_feature_vector(tokens):\n",
    "    \"\"\"\n",
    "    Convert a list of preprocessed tokens into a binary feature vector.\n",
    "    Tokens present in the text will have a value of 1 in the feature vector.\n",
    "    The global feature dictionary keeps track of the count of each token.\n",
    "    \"\"\"\n",
    "    feature_vector = {}\n",
    "    \n",
    "    for token in tokens:\n",
    "        # Update the local feature vector with binary values\n",
    "        feature_vector[token] = 1\n",
    "        \n",
    "        # Update the global feature dictionary with word counts\n",
    "        if token in global_feature_dict:\n",
    "            global_feature_dict[token] += 1\n",
    "        else:\n",
    "            global_feature_dict[token] = 1\n",
    "            \n",
    "    return feature_vector"
   ]
  },
  {
   "cell_type": "code",
   "execution_count": 6,
   "metadata": {},
   "outputs": [],
   "source": [
    "# TRAINING AND VALIDATING OUR CLASSIFIER\n",
    "\n",
    "def train_classifier(data):\n",
    "    print(\"Training Classifier...\")\n",
    "    # Creating a pipeline with LinearSVC\n",
    "    pipeline =  Pipeline([('svc', LinearSVC(dual='auto'))]) # Explicitly set the dual parameter\n",
    "    # Train the classifier using SklearnClassifier\n",
    "    ClassifierRes = SklearnClassifier(pipeline).train(data)\n",
    "\n",
    "    return ClassifierRes"
   ]
  },
  {
   "cell_type": "markdown",
   "metadata": {},
   "source": [
    "# Cross-validation"
   ]
  },
  {
   "cell_type": "code",
   "execution_count": 7,
   "metadata": {},
   "outputs": [],
   "source": [
    "#solution\n",
    "from sklearn.metrics import classification_report\n",
    "from sklearn.metrics import accuracy_score\n",
    "import pandas as pd\n",
    "\n",
    "\n",
    "def cross_validate(dataset, folds):\n",
    "    results = []\n",
    "    fold_size = int(len(dataset)/folds) + 1\n",
    "    \n",
    "    for i in range(0,len(dataset),int(fold_size)):\n",
    "        # Define the training and testing sets for this fold\n",
    "        train_data = dataset[:i] + dataset[i + fold_size:]\n",
    "        test_data = dataset[i:i + fold_size]\n",
    "\n",
    "        # Printing the range of indices for the current fold\n",
    "        print(\"Fold start on items %d - %d\" % (i, i+fold_size))\n",
    "            \n",
    "        # Train the classifier on the training data\n",
    "        classifier = train_classifier(train_data)\n",
    "\n",
    "        # Extract the texts and true labels from the test data\n",
    "        test_texts = [text for (text, label) in test_data]\n",
    "        test_labels = [label for (text, label) in test_data]\n",
    "\n",
    "        # Predict labels on the test data\n",
    "        predictions = predict_labels(test_texts, classifier)\n",
    "\n",
    "        # Calculate precision, recall, f1-score, and accuracy\n",
    "        precision, recall, f1_score, trashVar = precision_recall_fscore_support(test_labels, predictions, average='weighted')\n",
    "        accuracy = accuracy_score(test_labels, predictions)\n",
    "\n",
    "        # Store the results\n",
    "        results.append({\n",
    "            'accuracy': accuracy,\n",
    "            'precision': precision,\n",
    "            'recall': recall,\n",
    "            'f1_score': f1_score\n",
    "        })\n",
    "\n",
    "    # Convert the results to a DataFrame for easy viewing and analysis\n",
    "    cv_results = pd.DataFrame(results)\n",
    "\n",
    "    # Return the average metrics across all folds\n",
    "    return cv_results.mean()"
   ]
  },
  {
   "cell_type": "code",
   "execution_count": 8,
   "metadata": {},
   "outputs": [],
   "source": [
    "# PREDICTING LABELS GIVEN A CLASSIFIER\n",
    "\n",
    "def predict_labels(samples, classifier):\n",
    "    \"\"\"Assuming preprocessed samples, return their predicted labels from the classifier model.\"\"\"\n",
    "    return classifier.classify_many(samples)\n",
    "\n",
    "def predict_label_from_raw(sample, classifier):\n",
    "    \"\"\"Assuming raw text, return its predicted label from the classifier model.\"\"\"\n",
    "    return classifier.classify(to_feature_vector(preProcess(sample)))"
   ]
  },
  {
   "cell_type": "code",
   "execution_count": 9,
   "metadata": {},
   "outputs": [
    {
     "name": "stdout",
     "output_type": "stream",
     "text": [
      "Now 0 rawData, 0 trainData, 0 testData\n",
      "Preparing the dataset...\n",
      "Now 33540 rawData, 0 trainData, 0 testData\n",
      "Preparing training and test data...\n",
      "After split, 33540 rawData, 26832 trainData, 6708 testData\n",
      "Training Samples: \n",
      "26832\n",
      "Features: \n",
      "104039\n"
     ]
    }
   ],
   "source": [
    "# MAIN\n",
    "\n",
    "# loading reviews\n",
    "# initialize global lists that will be appended to by the methods below\n",
    "raw_data = []          # the filtered data from the dataset file\n",
    "train_data = []        # the pre-processed training data as a percentage of the total dataset\n",
    "test_data = []         # the pre-processed test data as a percentage of the total dataset\n",
    "\n",
    "\n",
    "# references to the data files\n",
    "data_file_path = 'sentiment-dataset.tsv'\n",
    "\n",
    "# Do the actual stuff (i.e. call the functions we've made)\n",
    "# We parse the dataset and put it in a raw data list\n",
    "print(\"Now %d rawData, %d trainData, %d testData\" % (len(raw_data), len(train_data), len(test_data)),\n",
    "      \"Preparing the dataset...\",sep='\\n')\n",
    "\n",
    "load_data(data_file_path) \n",
    "\n",
    "# We split the raw dataset into a set of training data and a set of test data (80/20)\n",
    "# You do the cross validation on the 80% (training data)\n",
    "# We print the number of training samples and the number of features before the split\n",
    "print(\"Now %d rawData, %d trainData, %d testData\" % (len(raw_data), len(train_data), len(test_data)),\n",
    "      \"Preparing training and test data...\",sep='\\n')\n",
    "\n",
    "split_and_preprocess_data(0.8)\n",
    "\n",
    "# We print the number of training samples and the number of features after the split\n",
    "print(\"After split, %d rawData, %d trainData, %d testData\" % (len(raw_data), len(train_data), len(test_data)),\n",
    "      \"Training Samples: \", len(train_data), \"Features: \", len(global_feature_dict), sep='\\n')\n"
   ]
  },
  {
   "cell_type": "code",
   "execution_count": 10,
   "metadata": {},
   "outputs": [
    {
     "name": "stdout",
     "output_type": "stream",
     "text": [
      "Fold start on items 0 - 2684\n",
      "Training Classifier...\n",
      "Fold start on items 2684 - 5368\n",
      "Training Classifier...\n",
      "Fold start on items 5368 - 8052\n",
      "Training Classifier...\n",
      "Fold start on items 8052 - 10736\n",
      "Training Classifier...\n",
      "Fold start on items 10736 - 13420\n",
      "Training Classifier...\n",
      "Fold start on items 13420 - 16104\n",
      "Training Classifier...\n",
      "Fold start on items 16104 - 18788\n",
      "Training Classifier...\n",
      "Fold start on items 18788 - 21472\n",
      "Training Classifier...\n",
      "Fold start on items 21472 - 24156\n",
      "Training Classifier...\n",
      "Fold start on items 24156 - 26840\n",
      "Training Classifier...\n"
     ]
    },
    {
     "data": {
      "text/plain": [
       "accuracy     0.830429\n",
       "precision    0.828637\n",
       "recall       0.830429\n",
       "f1_score     0.828810\n",
       "dtype: float64"
      ]
     },
     "execution_count": 10,
     "metadata": {},
     "output_type": "execute_result"
    }
   ],
   "source": [
    "cross_validate(train_data, 10)  # will work and output overall performance of p, r, f-score when cv implemented"
   ]
  },
  {
   "cell_type": "markdown",
   "metadata": {},
   "source": [
    "# Error Analysis"
   ]
  },
  {
   "cell_type": "code",
   "execution_count": 11,
   "metadata": {},
   "outputs": [],
   "source": [
    "from sklearn import metrics\n",
    "import matplotlib.pyplot as plt\n",
    "# a function to make the confusion matrix readable and pretty\n",
    "def confusion_matrix_heatmap(y_test, preds, labels):\n",
    "    \"\"\"Function to plot a confusion matrix\"\"\"\n",
    "    # pass labels to the confusion matrix function to ensure right order\n",
    "    # cm = metrics.confusion_matrix(y_test, preds, labels)\n",
    "    cm = metrics.confusion_matrix(y_test, preds, labels=labels)\n",
    "    fig = plt.figure(figsize=(10,10))\n",
    "    ax = fig.add_subplot(111)\n",
    "    cax = ax.matshow(cm)\n",
    "    plt.title('Confusion matrix of the classifier')\n",
    "    fig.colorbar(cax)\n",
    "    ax.set_xticks(np.arange(len(labels)))\n",
    "    ax.set_yticks(np.arange(len(labels)))\n",
    "    ax.set_xticklabels( labels, rotation=45)\n",
    "    ax.set_yticklabels( labels)\n",
    "\n",
    "    for i in range(len(cm)):\n",
    "        for j in range(len(cm)):\n",
    "            text = ax.text(j, i, cm[i, j],\n",
    "                           ha=\"center\", va=\"center\", color=\"w\")\n",
    "\n",
    "    plt.xlabel('Predicted')\n",
    "    plt.ylabel('True')\n",
    "    \n",
    "    # fix for mpl bug that cuts off top/bottom of seaborn viz:\n",
    "    b, t = plt.ylim() # discover the values for bottom and top\n",
    "    b += 0.5 # Add 0.5 to the bottom\n",
    "    t -= 0.5 # Subtract 0.5 from the top\n",
    "    plt.ylim(b, t) # update the ylim(bottom, top) values\n",
    "    plt.show() # ta-da!"
   ]
  },
  {
   "cell_type": "code",
   "execution_count": 12,
   "metadata": {},
   "outputs": [
    {
     "name": "stdout",
     "output_type": "stream",
     "text": [
      "Training Classifier...\n"
     ]
    },
    {
     "data": {
      "image/png": "[encoded data removed]",
      "text/plain": [
       "<Figure size 1000x1000 with 2 Axes>"
      ]
     },
     "metadata": {},
     "output_type": "display_data"
    }
   ],
   "source": [
    "train_df,test_df= train_data[2684:21472], train_data[0:2684]\n",
    "samples = [text for text,label in test_df]\n",
    "y_test = [label for text,label in test_df]\n",
    "\n",
    "model= train_classifier(train_df)\n",
    "pred = predict_labels(samples, model)\n",
    "\n",
    "confusion_matrix_heatmap(y_test, pred, ['positive','negative'])"
   ]
  },
  {
   "cell_type": "code",
   "execution_count": 13,
   "metadata": {},
   "outputs": [],
   "source": [
    "# Defining a variable used for iterating the test dataset\n",
    "test_data_index = 0\n",
    "\n",
    "# Loop through the entire test dataset\n",
    "while test_data_index < len(y_test):\n",
    "\n",
    "  # Check for incorrectly classified samples\n",
    "  if y_test[test_data_index] != pred[test_data_index]:\n",
    "\n",
    "    # Define the error type, if positive prediction is incorrect: FALSE POSITIVE\n",
    "    if pred[test_data_index] == 'positive':\n",
    "\n",
    "      # Creates a file \"incorrect_samples.txt\" and write the False Positive instances to a file\n",
    "      with open('incorrect_samples.txt', 'a', encoding=\"utf8\") as file:\n",
    "        file.write(f\"ERROR: FALSE POSITIVE where TRUE: {y_test[test_data_index]} was incorrectly classified as PREDICTED: {pred[test_data_index]}\\n\")\n",
    "        misclassified_text = test_df[test_data_index][0]\n",
    "        file.write(f\"text: {' '.join(misclassified_text)}\\n\\n\")\n",
    "\n",
    "    # Define the error type, if negative prediction is incorrect: FALSE NEGATIVE\n",
    "    elif pred[test_data_index] == 'negative':\n",
    "\n",
    "      # Creates a file \"incorrect_samples.txt\" and write the False Negative instances to a file\n",
    "      with open('incorrect_samples.txt', 'a', encoding=\"utf8\") as file:\n",
    "        file.write(f\"ERROR: FALSE NEGATIVE where TRUE: {y_test[test_data_index]} was incorrectly classified as PREDICTED: {pred[test_data_index]}\\n\")\n",
    "        misclassified_text = test_df[test_data_index][0]\n",
    "        file.write(f\"text: {' '.join(misclassified_text)}\\n\\n\")\n",
    "\n",
    "  # Updating the iteration count\n",
    "  test_data_index += 1\n"
   ]
  },
  {
   "cell_type": "markdown",
   "metadata": {},
   "source": [
    "# Optimising pre-processing and feature extraction"
   ]
  },
  {
   "cell_type": "code",
   "execution_count": 14,
   "metadata": {},
   "outputs": [],
   "source": [
    "# Finally, check the accuracy of your classifier by training on all the traning data\n",
    "# and testing on the test set\n",
    "# Will only work once all functions are complete\n",
    "functions_complete = False  # set to True once you're happy with your methods for cross val\n",
    "if functions_complete:\n",
    "    print(test_data[0])   # have a look at the first test data instance\n",
    "    classifier = train_classifier(train_data)  # train the classifier\n",
    "    test_true = [t[1] for t in test_data]   # get the ground-truth labels from the data\n",
    "    test_pred = predict_labels([x[0] for x in test_data], classifier)  # classify the test data to get predicted labels\n",
    "    final_scores = precision_recall_fscore_support(test_true, test_pred, average='weighted') # evaluate\n",
    "    print(\"Done training!\")\n",
    "    print(\"Precision: %f\\nRecall: %f\\nF Score:%f\" % final_scores[:3])"
   ]
  }
 ],
 "metadata": {
  "kernelspec": {
   "display_name": "Python 3 (ipykernel)",
   "language": "python",
   "name": "python3"
  },
  "language_info": {
   "codemirror_mode": {
    "name": "ipython",
    "version": 3
   },
   "file_extension": ".py",
   "mimetype": "text/x-python",
   "name": "python",
   "nbconvert_exporter": "python",
   "pygments_lexer": "ipython3",
   "version": "3.11.4"
  }
 },
 "nbformat": 4,
 "nbformat_minor": 4
}
